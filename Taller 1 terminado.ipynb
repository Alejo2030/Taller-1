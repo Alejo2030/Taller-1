{
 "cells": [
  {
   "cell_type": "code",
   "execution_count": 59,
   "metadata": {},
   "outputs": [
    {
     "name": "stdout",
     "output_type": "stream",
     "text": [
      "El tercer número 10.0 número es el mayor \n"
     ]
    }
   ],
   "source": [
    "a : float\n",
    "b : float\n",
    "c : float\n",
    "\n",
    "a = float(input(\"Ingrese el primer número: \"))\n",
    "b = float(input(\"Ingrese el segundo número: \"))\n",
    "c = float(input(\"Ingrese el tercer número: \"))\n",
    "if a > b and a > c:\n",
    "    print(\"El primer número \" + str(a) + \"  es el mayor \")\n",
    "elif b > a and b > c:\n",
    "    print(\"El segundo número \" + str(b) + \" número es el mayor \")\n",
    "else:\n",
    "    print(\"El tercer número \" + str(c) + \" número es el mayor \")\n"
   ]
  },
  {
   "cell_type": "code",
   "execution_count": 60,
   "metadata": {},
   "outputs": [
    {
     "name": "stdout",
     "output_type": "stream",
     "text": [
      "El número 123 es impar\n"
     ]
    }
   ],
   "source": [
    "n : int\n",
    "n = int(input(\"Ingrese el número \"))\n",
    "if n % 2 == 0:\n",
    "    print(\"El número \" + str(n) + \" es par\")\n",
    "else:\n",
    "    print(\"El número \" + str(n) + \" es impar\")"
   ]
  },
  {
   "cell_type": "code",
   "execution_count": 61,
   "metadata": {},
   "outputs": [
    {
     "name": "stdout",
     "output_type": "stream",
     "text": [
      "El número 24.0 no es multiplo de 13.0\n"
     ]
    }
   ],
   "source": [
    "i : float\n",
    "s : float\n",
    "#El número mayor a evaluar debe ser el primero que se ingrese.\n",
    "\n",
    "i = float(input(\"Ingrese el primer número\"))\n",
    "s = float(input(\"Ingrese el segundo número\"))\n",
    "if i % s == 0:\n",
    "    print(\"El número \" + str(i) + \" es multiplo de \" + str(s) )\n",
    "else:\n",
    "    print(\"El número \" + str(i) + \" no es multiplo de \" + str(s) )\n",
    "\n"
   ]
  },
  {
   "cell_type": "code",
   "execution_count": 62,
   "metadata": {},
   "outputs": [
    {
     "name": "stdout",
     "output_type": "stream",
     "text": [
      "La suma de 12.0 y 60.0 es menor que 96.0\n"
     ]
    }
   ],
   "source": [
    "a : float\n",
    "b : float\n",
    "c : float\n",
    "\n",
    "a = float(input(\" Ingrese el primer número: \"))\n",
    "b = float(input(\" Ingrese el segundo número: \"))\n",
    "c = float(input(\" Ingrese el tercer número: \"))\n",
    "\n",
    "if a + b > c:\n",
    "    print(\"La suma de \" + str(a) + \" y \" + str(b) + \" es mayor que \"+ str(c))\n",
    "\n",
    "elif a + b < c:\n",
    "    print(\"La suma de \" + str(a) + \" y \" + str(b) + \" es menor que \"+ str(c))\n",
    "else: \n",
    "    if a + b == c:\n",
    "        print(\"La suma de \" + str(a) + \" y \" + str(b) + \" es igual que \"+ str(c))"
   ]
  },
  {
   "cell_type": "code",
   "execution_count": 64,
   "metadata": {},
   "outputs": [
    {
     "name": "stdout",
     "output_type": "stream",
     "text": [
      "La letra ingresada X es una consonante.\n"
     ]
    }
   ],
   "source": [
    "letra = input(\"Ingresa una letra: \")\n",
    "\n",
    "if len(letra) != 1:\n",
    "    print(\"Error: Por favor ingresa una única letra.\")\n",
    "elif letra in 'aeiouAEIOU':\n",
    "    print(\"La letra ingresada \" + str(letra) + \" es una vocal.\")\n",
    "else:\n",
    "    print(\"La letra ingresada \" + str(letra) + \" es una consonante.\")\n",
    "\n"
   ]
  },
  {
   "cell_type": "code",
   "execution_count": 65,
   "metadata": {},
   "outputs": [
    {
     "name": "stdout",
     "output_type": "stream",
     "text": [
      "El promedio de los números es: 105.0\n",
      "La mediana de los números es: 20.0\n",
      "El promedio multiplicativo de los números es: 0.0\n",
      "Los números ordenados de forma ascendente son: [0.0, 5.0, 20.0, 100.0, 400.0]\n",
      "Los números ordenados de forma descendente son: [400.0, 100.0, 20.0, 5.0, 0.0]\n",
      "La potencia del mayor número (400.0) elevado al menor número (0.0) es: 1.0\n",
      "La raíz cúbica del menor número (0.0) es: 0.0\n"
     ]
    }
   ],
   "source": [
    "# Solicitar los 5 números al usuario\n",
    "a = float(input(\"Ingrese el primer número: \"))\n",
    "b = float(input(\"Ingrese el segundo número: \"))\n",
    "c = float(input(\"Ingrese el tercer número: \"))\n",
    "d = float(input(\"Ingrese el cuarto número: \"))\n",
    "e = float(input(\"Ingrese el quinto número: \"))\n",
    "\n",
    "# Calcular el promedio\n",
    "promedio = (a + b + c + d + e) / 5\n",
    "\n",
    "# Calcular la mediana\n",
    "lista_numeros = [a, b, c , d , e]\n",
    "lista_numeros.sort()\n",
    "if len(lista_numeros) % 2 == 0:\n",
    "    mediana = (lista_numeros[len(lista_numeros)//2] + lista_numeros[len(lista_numeros)//2 - 1]) / 2\n",
    "else:\n",
    "    mediana = lista_numeros[len(lista_numeros)//2]\n",
    "\n",
    "# Calcular el promedio multiplicativo\n",
    "producto = a * b * c * d * e\n",
    "promedio_multiplicativo = producto ** (1/5)\n",
    "\n",
    "# Ordenar los números de forma ascendente\n",
    "ascendente = sorted(lista_numeros)\n",
    "\n",
    "# Ordenar los números de forma descendente\n",
    "descendente = sorted(lista_numeros, reverse=True)\n",
    "\n",
    "# Calcular la potencia del mayor número elevado al menor número\n",
    "mayor = max(lista_numeros)\n",
    "menor = min(lista_numeros)\n",
    "potencia = mayor ** menor\n",
    "\n",
    "# Calcular la raíz cúbica del menor número\n",
    "raiz_cubica = abs(min(lista_numeros)) ** (1/3)\n",
    "\n",
    "# Imprimir los resultados\n",
    "print(f\"El promedio de los números es: {promedio}\")\n",
    "print(f\"La mediana de los números es: {mediana}\")\n",
    "print(f\"El promedio multiplicativo de los números es: {promedio_multiplicativo}\")\n",
    "print(f\"Los números ordenados de forma ascendente son: {ascendente}\")\n",
    "print(f\"Los números ordenados de forma descendente son: {descendente}\")\n",
    "print(f\"La potencia del mayor número ({mayor}) elevado al menor número ({menor}) es: {potencia}\")\n",
    "print(f\"La raíz cúbica del menor número ({min(lista_numeros)}) es: {raiz_cubica}\")\n"
   ]
  },
  {
   "cell_type": "code",
   "execution_count": 21,
   "metadata": {},
   "outputs": [
    {
     "name": "stdout",
     "output_type": "stream",
     "text": [
      "La frecuencia 30000000000.0 esta ubicada en ondas de microondas\n"
     ]
    }
   ],
   "source": [
    "s : float\n",
    "s = float(input(\" Insertar la frecuencia deseada: \")) \n",
    "\n",
    "if s < 3e9:\n",
    "    print(\"La frecuencia \" + str(s) + \" esta ubicada en ondas de radio\" )\n",
    "elif s < 3e12:\n",
    "    print(\"La frecuencia \" + str(s) + \" esta ubicada en ondas de microondas\" )\n",
    "elif s  < 4.3e14:\n",
    "    print(\"La frecuencia \" + str(s) + \" esta ubicada en ondas de infrrarrojo\" )\n",
    "elif s < 7.5e14:\n",
    "    print(\"La frecuencia \" + str(s) + \" esta ubicada en ondas de luz visible\" )\n",
    "\n",
    "elif s < 3e17:\n",
    "    print(\"La frecuencia \" + str(s) + \" esta ubicada en ondas ultravioletas\" )\n",
    "\n",
    "elif s < 3e19:\n",
    "    print(\"La frecuencia \" + str(s) + \" esta ubicada en ondas de Rayos X\" )\n",
    "        \n",
    "else:\n",
    "    print(\"La frecuencia \" + str(s) + \" esta ubicada en ondas de rayos gamma\" )\n",
    "\n",
    " \n",
    "\n",
    "\n"
   ]
  },
  {
   "cell_type": "code",
   "execution_count": 36,
   "metadata": {},
   "outputs": [
    {
     "name": "stdout",
     "output_type": "stream",
     "text": [
      "La capital de colombia es Bogotá\n"
     ]
    }
   ],
   "source": [
    "\n",
    "a = (input(\"Inserte el nombre del pais del que quiere conocer la capital; en minuscula \"))\n",
    "\n",
    "if a == \"argentina\":\n",
    "    print(\"La capital de \" + str(a) + \" es Buenos Aires\" )\n",
    "elif a == \"bolivia\":\n",
    "    print(\"La capital de \" + str(a) + \" La Paz\" )\n",
    "elif a == \"brasil\":\n",
    "    print(\"La capital de \" + str(a) + \" es Brasilia\" )\n",
    "elif a == \"canada\":\n",
    "    print(\"La capital de \" + str(a) + \" es Ottawa\" )\n",
    "elif a == \"chile\":\n",
    "    print(\"La capital de \" + str(a) + \" es Santiago de Chile\" )\n",
    "elif a == \"colombia\":\n",
    "    print(\"La capital de \" + str(a) + \" es Bogotá\" )\n",
    "elif a == \"costa rica\":\n",
    "    print(\"La capital de \" + str(a) + \" es San José\" )\n",
    "elif a == \"cuba\":\n",
    "    print(\"La capital de \" + str(a) + \" es La Habana\" )\n",
    "elif a == \"ecuador\":\n",
    "    print(\"La capital de \" + str(a) + \" Quito\" )\n",
    "elif a == \"estados unidos\" or a == \"eeuu\":\n",
    "    print(\"La capital de \" + str(a) + \" es Washington\" )\n",
    "elif a == \"guatemala\":\n",
    "    print(\"La capital de \" + str(a) + \" es Ciudad de Guatemala  \" )\n",
    "elif a == \"honduras\":\n",
    "    print(\"La capital de \" + str(a) + \" es Tegucigalpa\" )\n",
    "elif a == \"mexico\":\n",
    "    print(\"La capital de \" + str(a) + \" es Ciudad de México\" )\n",
    "elif a == \"nicaragua\":\n",
    "    print(\"La capital de \" + str(a) + \" es Managua\" )\n",
    "elif a == \"panama\":\n",
    "    print(\"La capital de \" + str(a) + \" es Ciudad de Panamá\" )\n",
    "elif a == \"paraguay\":\n",
    "    print(\"La capital de \" + str(a) + \" es Asunción\" )\n",
    "elif a == \"peru\":\n",
    "    print(\"La capital de \" + str(a) + \" es Lima\" )\n",
    "elif a == \"puerto rico\":\n",
    "    print(\"La capital de \" + str(a) + \" es San Juan  \" )\n",
    "elif a == \"república dominicana\":\n",
    "    print(\"La capital de \" + str(a) + \" es Santo Domingo\" )\n",
    "elif a == \"uruguay\":\n",
    "    print(\"La capital de \" + str(a) + \" es Montevideo\" )\n",
    "elif a == \"venezuela\":\n",
    "    print(\"La capital de \" + str(a) + \" es Caracas \" )\n",
    "else:\n",
    "    print(\"País no identificado\")\n",
    "\n"
   ]
  },
  {
   "cell_type": "code",
   "execution_count": 45,
   "metadata": {},
   "outputs": [
    {
     "name": "stdout",
     "output_type": "stream",
     "text": [
      "El tiempo que tarda la luz en reccorrer 1000000.0 m es de 0.0033356409519815205 segundos\n",
      "El tiempo que tarda el sonido en reccorrer 1000000.0 m es de 0.0033356409519815205 segundos\n",
      "El tiempo que tarda Usain Bolt en reccorrer 1000000.0 m es de 0.0033356409519815205 segundos\n",
      "El tiempo que tarda el auto en reccorrer 1000000.0 m es de 0.0033356409519815205 segundos\n"
     ]
    }
   ],
   "source": [
    "#d es distancia en metros \n",
    "d : float\n",
    "d = float(input(\"Inserte la distancia que quiere estudiar en metros: \" ))\n",
    "#Tiempo que tarda la luz en recorrer la distancia \n",
    "td = float\n",
    "#Tiempo que tarda el sonido en recorrer la distancia \n",
    "ts = float\n",
    "#Tiempo que tarda Usain Bolt en recorrer la distancia \n",
    "tb = float\n",
    "#Tiempo que tarda el auto en recorrer la distancia \n",
    "ta = float\n",
    "#constantes expresadas en metros por segundo \n",
    "VEL_LUZ = 299792458\n",
    "VEL_SONIDO = 343 \n",
    "VEL_BOLT = 11.6666\n",
    "VEL_AUTO = 126.466\n",
    "td = d/VEL_LUZ\n",
    "print(\"El tiempo que tarda la luz en reccorrer \" + str(d) + \" m es de \" + str(td) + \" segundos\")\n",
    "\n",
    "ts = d/VEL_SONIDO\n",
    "print(\"El tiempo que tarda el sonido en reccorrer \" + str(d) + \" m es de \" + str(td) + \" segundos\")\n",
    "\n",
    "tb = d/VEL_BOLT\n",
    "print(\"El tiempo que tarda Usain Bolt en reccorrer \" + str(d) + \" m es de \" + str(td) + \" segundos\")\n",
    "\n",
    "ta = d/VEL_AUTO\n",
    "print(\"El tiempo que tarda el auto en reccorrer \" + str(d) + \" m es de \" + str(td) + \" segundos\")\n",
    "\n"
   ]
  }
 ],
 "metadata": {
  "kernelspec": {
   "display_name": "Python 3",
   "language": "python",
   "name": "python3"
  },
  "language_info": {
   "codemirror_mode": {
    "name": "ipython",
    "version": 3
   },
   "file_extension": ".py",
   "mimetype": "text/x-python",
   "name": "python",
   "nbconvert_exporter": "python",
   "pygments_lexer": "ipython3",
   "version": "3.11.2"
  },
  "orig_nbformat": 4,
  "vscode": {
   "interpreter": {
    "hash": "c6d24f28c59bb49c441dc51ffa980db1c7efe4954db3820543d532bf279ddef3"
   }
  }
 },
 "nbformat": 4,
 "nbformat_minor": 2
}
