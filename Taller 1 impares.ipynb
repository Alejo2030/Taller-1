{
 "cells": [
  {
   "cell_type": "code",
   "execution_count": 2,
   "metadata": {},
   "outputs": [
    {
     "name": "stdout",
     "output_type": "stream",
     "text": [
      "El número 5 es impar\n"
     ]
    }
   ],
   "source": [
    "# punto 3\n",
    "n : int\n",
    "n = int(input(\"Ingrese el número \"))\n",
    "if n % 2 == 0:\n",
    "    print(\"El número \" + str(n) + \" es par\")\n",
    "else:\n",
    "    print(\"El número \" + str(n) + \" es impar\")"
   ]
  },
  {
   "cell_type": "code",
   "execution_count": 3,
   "metadata": {},
   "outputs": [
    {
     "name": "stdout",
     "output_type": "stream",
     "text": [
      "La suma de 1.0 y 3.0 es mayor que 3.0\n"
     ]
    }
   ],
   "source": [
    "#punto 5 \n",
    "a : float\n",
    "b : float\n",
    "c : float\n",
    "\n",
    "a = float(input(\" Ingrese el primer número: \"))\n",
    "b = float(input(\" Ingrese el segundo número: \"))\n",
    "c = float(input(\" Ingrese el tercer número: \"))\n",
    "\n",
    "if a + b > c:\n",
    "    print(\"La suma de \" + str(a) + \" y \" + str(b) + \" es mayor que \"+ str(c))\n",
    "\n",
    "elif a + b < c:\n",
    "    print(\"La suma de \" + str(a) + \" y \" + str(b) + \" es menor que \"+ str(c))\n",
    "else: \n",
    "    if a + b == c:\n",
    "        print(\"La suma de \" + str(a) + \" y \" + str(b) + \" es igual que \"+ str(c))"
   ]
  },
  {
   "cell_type": "code",
   "execution_count": 4,
   "metadata": {},
   "outputs": [
    {
     "name": "stdout",
     "output_type": "stream",
     "text": [
      "El promedio de los números es: 8.0\n",
      "La mediana de los números es: 8.0\n",
      "El promedio multiplicativo de los números es: 8.000000000000002\n",
      "Los números ordenados de forma ascendente son: [8.0, 8.0, 8.0, 8.0, 8.0]\n",
      "Los números ordenados de forma descendente son: [8.0, 8.0, 8.0, 8.0, 8.0]\n",
      "La potencia del mayor número (8.0) elevado al menor número (8.0) es: 16777216.0\n",
      "La raíz cúbica del menor número (8.0) es: 2.0\n"
     ]
    }
   ],
   "source": [
    "#punto 7\n",
    "# Solicitar los 5 números al usuario\n",
    "a = float(input(\"Ingrese el primer número: \"))\n",
    "b = float(input(\"Ingrese el segundo número: \"))\n",
    "c = float(input(\"Ingrese el tercer número: \"))\n",
    "d = float(input(\"Ingrese el cuarto número: \"))\n",
    "e = float(input(\"Ingrese el quinto número: \"))\n",
    "\n",
    "# Calcular el promedio\n",
    "promedio = (a + b + c + d + e) / 5\n",
    "\n",
    "# Calcular la mediana\n",
    "lista_numeros = [a, b, c , d , e]\n",
    "lista_numeros.sort()\n",
    "if len(lista_numeros) % 2 == 0:\n",
    "    mediana = (lista_numeros[len(lista_numeros)//2] + lista_numeros[len(lista_numeros)//2 - 1]) / 2\n",
    "else:\n",
    "    mediana = lista_numeros[len(lista_numeros)//2]\n",
    "\n",
    "# Calcular el promedio multiplicativo\n",
    "producto = a * b * c * d * e\n",
    "promedio_multiplicativo = producto ** (1/5)\n",
    "\n",
    "# Ordenar los números de forma ascendente\n",
    "ascendente = sorted(lista_numeros)\n",
    "\n",
    "# Ordenar los números de forma descendente\n",
    "descendente = sorted(lista_numeros, reverse=True)\n",
    "\n",
    "# Calcular la potencia del mayor número elevado al menor número\n",
    "mayor = max(lista_numeros)\n",
    "menor = min(lista_numeros)\n",
    "potencia = mayor ** menor\n",
    "\n",
    "# Calcular la raíz cúbica del menor número\n",
    "raiz_cubica = abs(min(lista_numeros)) ** (1/3)\n",
    "\n",
    "# Imprimir los resultados\n",
    "print(f\"El promedio de los números es: {promedio}\")\n",
    "print(f\"La mediana de los números es: {mediana}\")\n",
    "print(f\"El promedio multiplicativo de los números es: {promedio_multiplicativo}\")\n",
    "print(f\"Los números ordenados de forma ascendente son: {ascendente}\")\n",
    "print(f\"Los números ordenados de forma descendente son: {descendente}\")\n",
    "print(f\"La potencia del mayor número ({mayor}) elevado al menor número ({menor}) es: {potencia}\")\n",
    "print(f\"La raíz cúbica del menor número ({min(lista_numeros)}) es: {raiz_cubica}\")"
   ]
  },
  {
   "cell_type": "code",
   "execution_count": 5,
   "metadata": {},
   "outputs": [
    {
     "name": "stdout",
     "output_type": "stream",
     "text": [
      "La capital de colombia es Bogotá\n"
     ]
    }
   ],
   "source": [
    "#punto 9\n",
    "a = (input(\"Inserte el nombre del pais del que quiere conocer la capital; en minuscula \"))\n",
    "\n",
    "if a == \"argentina\":\n",
    "    print(\"La capital de \" + str(a) + \" es Buenos Aires\" )\n",
    "elif a == \"bolivia\":\n",
    "    print(\"La capital de \" + str(a) + \" La Paz\" )\n",
    "elif a == \"brasil\":\n",
    "    print(\"La capital de \" + str(a) + \" es Brasilia\" )\n",
    "elif a == \"canada\":\n",
    "    print(\"La capital de \" + str(a) + \" es Ottawa\" )\n",
    "elif a == \"chile\":\n",
    "    print(\"La capital de \" + str(a) + \" es Santiago de Chile\" )\n",
    "elif a == \"colombia\":\n",
    "    print(\"La capital de \" + str(a) + \" es Bogotá\" )\n",
    "elif a == \"costa rica\":\n",
    "    print(\"La capital de \" + str(a) + \" es San José\" )\n",
    "elif a == \"cuba\":\n",
    "    print(\"La capital de \" + str(a) + \" es La Habana\" )\n",
    "elif a == \"ecuador\":\n",
    "    print(\"La capital de \" + str(a) + \" Quito\" )\n",
    "elif a == \"estados unidos\" or a == \"eeuu\":\n",
    "    print(\"La capital de \" + str(a) + \" es Washington\" )\n",
    "elif a == \"guatemala\":\n",
    "    print(\"La capital de \" + str(a) + \" es Ciudad de Guatemala  \" )\n",
    "elif a == \"honduras\":\n",
    "    print(\"La capital de \" + str(a) + \" es Tegucigalpa\" )\n",
    "elif a == \"mexico\":\n",
    "    print(\"La capital de \" + str(a) + \" es Ciudad de México\" )\n",
    "elif a == \"nicaragua\":\n",
    "    print(\"La capital de \" + str(a) + \" es Managua\" )\n",
    "elif a == \"panama\":\n",
    "    print(\"La capital de \" + str(a) + \" es Ciudad de Panamá\" )\n",
    "elif a == \"paraguay\":\n",
    "    print(\"La capital de \" + str(a) + \" es Asunción\" )\n",
    "elif a == \"peru\":\n",
    "    print(\"La capital de \" + str(a) + \" es Lima\" )\n",
    "elif a == \"puerto rico\":\n",
    "    print(\"La capital de \" + str(a) + \" es San Juan  \" )\n",
    "elif a == \"república dominicana\":\n",
    "    print(\"La capital de \" + str(a) + \" es Santo Domingo\" )\n",
    "elif a == \"uruguay\":\n",
    "    print(\"La capital de \" + str(a) + \" es Montevideo\" )\n",
    "elif a == \"venezuela\":\n",
    "    print(\"La capital de \" + str(a) + \" es Caracas \" )\n",
    "else:\n",
    "    print(\"País no identificado\")"
   ]
  }
 ],
 "metadata": {
  "kernelspec": {
   "display_name": "Python 3",
   "language": "python",
   "name": "python3"
  },
  "language_info": {
   "codemirror_mode": {
    "name": "ipython",
    "version": 3
   },
   "file_extension": ".py",
   "mimetype": "text/x-python",
   "name": "python",
   "nbconvert_exporter": "python",
   "pygments_lexer": "ipython3",
   "version": "3.11.2"
  },
  "orig_nbformat": 4
 },
 "nbformat": 4,
 "nbformat_minor": 2
}
